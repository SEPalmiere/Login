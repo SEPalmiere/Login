{
 "cells": [
  {
   "cell_type": "code",
   "execution_count": 1,
   "id": "f0505223",
   "metadata": {},
   "outputs": [],
   "source": [
    "import pandas as pd"
   ]
  },
  {
   "cell_type": "code",
   "execution_count": 2,
   "id": "b01cdd17",
   "metadata": {},
   "outputs": [],
   "source": [
    "# Criação do dataframe que salvará os usuarios cadastrados\n",
    "data = {'nome': ['adm'],\n",
    "        'sobrenome': ['adm'],\n",
    "        'email': ['adm.adm.com'],\n",
    "        'senha': [123]\n",
    "        }\n",
    "\n",
    "usuarios = pd.DataFrame(data)"
   ]
  },
  {
   "cell_type": "code",
   "execution_count": 3,
   "id": "e18f4033",
   "metadata": {},
   "outputs": [],
   "source": [
    "# Opção de signup\n",
    "def signup():\n",
    "    nome = str(input('Digite seu nome: '))\n",
    "    sobrenome = str(input('Sobrenome: '))\n",
    "    email = str(input('Email: '))\n",
    "    senha = str(input('Senha: '))\n",
    "    usuario = nome + \" \" + sobrenome + \" \" + email + \" \" + str(senha)\n",
    "    return usuario"
   ]
  },
  {
   "cell_type": "code",
   "execution_count": 4,
   "id": "eba2208d",
   "metadata": {},
   "outputs": [],
   "source": [
    "# Opção de signin\n",
    "def signin():\n",
    "    email = str(input('Email: '))\n",
    "    senha = str(input('Senha: '))\n",
    "    proc = str(email + \" \" + str(senha))\n",
    "    return proc"
   ]
  },
  {
   "cell_type": "code",
   "execution_count": 5,
   "id": "cd65e7be",
   "metadata": {},
   "outputs": [],
   "source": [
    "# Variaveis de testes\n",
    "comp = []\n",
    "escolha = 0\n",
    "valid = False"
   ]
  },
  {
   "cell_type": "code",
   "execution_count": 6,
   "id": "d3bb01dc",
   "metadata": {},
   "outputs": [],
   "source": [
    "# Função Loop para teste de opção\n",
    "def iniciar():\n",
    "    escolha = 0\n",
    "    while escolha != 1 and escolha != 2:\n",
    "        escolha = int(input(\"Escolha 1 para signin ou 2 para signup: \"))   \n",
    "    else:\n",
    "        return escolha"
   ]
  },
  {
   "cell_type": "code",
   "execution_count": 7,
   "id": "b2bae27f",
   "metadata": {},
   "outputs": [],
   "source": [
    "# Função de separação de palavras em uma string\n",
    "def split_texto(texto):\n",
    "\n",
    "    # separa por palavras\n",
    "    palavra = texto.split()\n",
    "    return palavra"
   ]
  },
  {
   "cell_type": "code",
   "execution_count": 24,
   "id": "ec6b1bee",
   "metadata": {},
   "outputs": [],
   "source": [
    "def validar(a1,b1):\n",
    "    valid=False\n",
    "    print(a1, b1)\n",
    "    \n",
    "#     for i in  range(len(usuarios)):\n",
    "#         a2 = usuarios.iat[i,2]\n",
    "#         b2 = usuarios.iat[i,3]\n",
    "#         if a1 == a2 and b1 == b2:\n",
    "#             print(a2, b2)\n",
    "#             valid = True\n",
    "#         else:\n",
    "#             valid = False\n",
    "#         return valid"
   ]
  },
  {
   "cell_type": "code",
   "execution_count": 25,
   "id": "95beb09f",
   "metadata": {},
   "outputs": [
    {
     "name": "stdout",
     "output_type": "stream",
     "text": [
      "boorges@com 123\n",
      "adm.adm.com 123\n",
      "portus@lol.com 357\n",
      "boorges@com 123\n"
     ]
    }
   ],
   "source": [
    "valid=False\n",
    "a1= procs[0]\n",
    "b1= procs[1]\n",
    "    \n",
    "print(a1, b1)\n",
    "    \n",
    "for i in  range(len(usuarios)):\n",
    "    a2 = usuarios.iat[i,2]\n",
    "    b2 = usuarios.iat[i,3]\n",
    "    if a1 == a2 and b1 == b2:\n",
    "        print(a2, b2)\n",
    "        valid = True\n",
    "    else:\n",
    "            print(a2, b2)\n",
    "            valid = False"
   ]
  },
  {
   "cell_type": "code",
   "execution_count": 26,
   "id": "5e128b53",
   "metadata": {},
   "outputs": [],
   "source": [
    "# Função Principal\n",
    "def main():\n",
    "    valid = False\n",
    "    escolha = iniciar()\n",
    "    if (escolha == 1):\n",
    "        usuario = signup()\n",
    "        dados = split_texto(usuario)\n",
    "        usuarios.loc[len(usuarios)] = dados\n",
    "    elif (escolha == 2):\n",
    "        proc = signin()\n",
    "        procs = split_texto(proc)\n",
    "        valid = validar(procs)\n",
    "    if valid == True:\n",
    "        print(\"Acesso permitido\")\n",
    "    else:\n",
    "        print(\"Acesso negado\")"
   ]
  },
  {
   "cell_type": "code",
   "execution_count": 27,
   "id": "6bd2c26d",
   "metadata": {},
   "outputs": [
    {
     "name": "stdout",
     "output_type": "stream",
     "text": [
      "Escolha 1 para signin ou 2 para signup: 2\n",
      "Email: portus@lol.com\n",
      "Senha: 357\n",
      "portus@lol.com 357\n",
      "None\n"
     ]
    }
   ],
   "source": [
    "main()"
   ]
  },
  {
   "cell_type": "code",
   "execution_count": 15,
   "id": "1e05ff77",
   "metadata": {},
   "outputs": [
    {
     "name": "stdout",
     "output_type": "stream",
     "text": [
      "      nome sobrenome           email senha\n",
      "0      adm       adm     adm.adm.com   123\n",
      "1  Gabriel   Holland  portus@lol.com   357\n",
      "2   Elaine     Luiza     boorges@com   123\n"
     ]
    }
   ],
   "source": [
    "print(usuarios)"
   ]
  },
  {
   "cell_type": "code",
   "execution_count": null,
   "id": "a0c69aa7",
   "metadata": {},
   "outputs": [],
   "source": [
    "print(proc)"
   ]
  },
  {
   "cell_type": "code",
   "execution_count": 20,
   "id": "1c7f07d7",
   "metadata": {},
   "outputs": [
    {
     "data": {
      "text/plain": [
       "'boorges@com'"
      ]
     },
     "execution_count": 20,
     "metadata": {},
     "output_type": "execute_result"
    }
   ],
   "source": [
    "procs[0]"
   ]
  },
  {
   "cell_type": "code",
   "execution_count": 23,
   "id": "ebe05cd0",
   "metadata": {},
   "outputs": [
    {
     "data": {
      "text/plain": [
       "'boorges@com'"
      ]
     },
     "execution_count": 23,
     "metadata": {},
     "output_type": "execute_result"
    }
   ],
   "source": [
    "usuarios.iat[i,2]"
   ]
  },
  {
   "cell_type": "code",
   "execution_count": 18,
   "id": "3b1df4cd",
   "metadata": {},
   "outputs": [
    {
     "name": "stdout",
     "output_type": "stream",
     "text": [
      "Email: boorges@com\n",
      "Senha: 123\n",
      "boorges@com 123\n"
     ]
    },
    {
     "data": {
      "text/plain": [
       "['boorges@com', '123']"
      ]
     },
     "execution_count": 18,
     "metadata": {},
     "output_type": "execute_result"
    }
   ],
   "source": [
    "proc = signin()\n",
    "print(proc)\n",
    "procs= split_texto(proc)\n",
    "procs"
   ]
  },
  {
   "cell_type": "code",
   "execution_count": null,
   "id": "4c80dcb4",
   "metadata": {},
   "outputs": [],
   "source": [
    "validar(procs)"
   ]
  },
  {
   "cell_type": "code",
   "execution_count": null,
   "id": "f2505852",
   "metadata": {},
   "outputs": [],
   "source": [
    "Elaine\n",
    "Luiza\n",
    "boorges@com\n",
    "123"
   ]
  },
  {
   "cell_type": "code",
   "execution_count": null,
   "id": "b441187f",
   "metadata": {},
   "outputs": [],
   "source": [
    "Gabriel\n",
    "Holland\n",
    "portus@lol.com\n",
    "357"
   ]
  },
  {
   "cell_type": "code",
   "execution_count": null,
   "id": "0a04e898",
   "metadata": {},
   "outputs": [],
   "source": [
    "Email: caixa@azul\n",
    "Senha: 698\n",
    "caixa@azul 698"
   ]
  }
 ],
 "metadata": {
  "kernelspec": {
   "display_name": "Python 3 (ipykernel)",
   "language": "python",
   "name": "python3"
  },
  "language_info": {
   "codemirror_mode": {
    "name": "ipython",
    "version": 3
   },
   "file_extension": ".py",
   "mimetype": "text/x-python",
   "name": "python",
   "nbconvert_exporter": "python",
   "pygments_lexer": "ipython3",
   "version": "3.9.7"
  }
 },
 "nbformat": 4,
 "nbformat_minor": 5
}
